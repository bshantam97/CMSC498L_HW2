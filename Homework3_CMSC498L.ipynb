{
 "cells": [
  {
   "cell_type": "code",
   "execution_count": 2,
   "metadata": {},
   "outputs": [],
   "source": [
    "import torch\n",
    "import torch.nn as nn\n",
    "import torch.nn.functional as f\n",
    "from torchvision import datasets,transforms\n",
    "import numpy as np\n",
    "import matplotlib.pyplot as plt\n",
    "import h5py\n",
    "import scipy\n",
    "from scipy import ndimage\n",
    "from PIL import Image\n",
    "%matplotlib inline"
   ]
  },
  {
   "cell_type": "code",
   "execution_count": 19,
   "metadata": {},
   "outputs": [],
   "source": [
    "# Load the training and testing data and convert it to a PyTorch Tensor\n",
    "train_dataset = h5py.File(\"data/train_catvnoncat.h5\",'r')\n",
    "test_dataset = h5py.File(\"data/test_catvnoncat.h5\",'r')\n",
    "\n",
    "# Separate features(x) and labels(y) for training set\n",
    "train_set_x_orig = np.array(train_dataset['train_set_x'])\n",
    "train_set_y_orig = np.array(train_dataset['train_set_y'])\n",
    "\n",
    "# Convert the features(x) and labels(y) for training data to Pytorch Tensors\n",
    "train_set_x_orig = torch.from_numpy(train_set_x_orig)\n",
    "train_set_y_orig = torch.from_numpy(train_set_y_orig)\n",
    "\n",
    "# Seperate features(x) and labels(y) for the test data\n",
    "test_set_x_orig = np.array(test_dataset['test_set_x'])\n",
    "test_set_y_orig = np.array(test_dataset['test_set_y'])\n",
    "\n",
    "# Convert the features(x) and labels(y) for test data to Pytorch Tensors\n",
    "test_set_x_orig = torch.from_numpy(test_set_x_orig)\n",
    "test_set_y_orig = torch.from_numpy(test_set_y_orig)\n",
    "\n",
    "# Classes\n",
    "classes = np.array(test_dataset[\"list_classes\"][:])"
   ]
  },
  {
   "cell_type": "code",
   "execution_count": 36,
   "metadata": {},
   "outputs": [
    {
     "data": {
      "text/plain": [
       "torch.Size([209, 64, 64, 3])"
      ]
     },
     "execution_count": 36,
     "metadata": {},
     "output_type": "execute_result"
    }
   ],
   "source": [
    "(train_set_x_orig).shape"
   ]
  },
  {
   "cell_type": "code",
   "execution_count": 6,
   "metadata": {},
   "outputs": [
    {
     "data": {
      "text/plain": [
       "torch.Tensor"
      ]
     },
     "execution_count": 6,
     "metadata": {},
     "output_type": "execute_result"
    }
   ],
   "source": [
    "type(test_set_x_orig)"
   ]
  },
  {
   "cell_type": "code",
   "execution_count": 22,
   "metadata": {},
   "outputs": [],
   "source": [
    "class TwoLayerNetwork(nn.Module):\n",
    "    \n",
    "    \"\"\"\n",
    "    n_x: The number of neurons in the input layer\n",
    "    n_h: The number of neurons in the hidden layer\n",
    "    n_y: The number of neurons in the output layer\n",
    "    \n",
    "    \"\"\"\n",
    "    def __init__(self,n_x = 12288, n_h = 7, n_y = 1):\n",
    "        \n",
    "        super().__init__()\n",
    "        \n",
    "        self.fc1 = nn.Linear(n_x,n_h)\n",
    "        self.fc2 = nn.Linear(n_h,n_y)\n",
    "    \n",
    "    \"\"\"\n",
    "    Function for computing the forward pass with a relu activation unit in fully connected layer 1\n",
    "    and returns an output from the sigmoid activation unit\n",
    "    \"\"\"\n",
    "    def forward(self, X):\n",
    "        \n",
    "        X = f.relu(self.fc1(X))\n",
    "        X = self.fc2(X)\n",
    "        \n",
    "        return f.sigmoid(X)"
   ]
  },
  {
   "cell_type": "code",
   "execution_count": 30,
   "metadata": {},
   "outputs": [
    {
     "data": {
      "text/plain": [
       "TwoLayerNetwork(\n",
       "  (fc1): Linear(in_features=12288, out_features=7, bias=True)\n",
       "  (fc2): Linear(in_features=7, out_features=1, bias=True)\n",
       ")"
      ]
     },
     "execution_count": 30,
     "metadata": {},
     "output_type": "execute_result"
    }
   ],
   "source": [
    "torch.manual_seed(101)\n",
    "model = TwoLayerNetwork()\n",
    "model"
   ]
  },
  {
   "cell_type": "code",
   "execution_count": 31,
   "metadata": {},
   "outputs": [],
   "source": [
    "# We define our optimizer as a Cross Entropy Loss Function \n",
    "optimizer = nn.CrossEntropyLoss()\n",
    "\n",
    "# We define our criterion to be Gradient Descent \n",
    "criterion = torch.optim.SGD(model.parameters(),lr = 0.001)"
   ]
  },
  {
   "cell_type": "code",
   "execution_count": 35,
   "metadata": {},
   "outputs": [
    {
     "data": {
      "text/plain": [
       "b'non-cat'"
      ]
     },
     "execution_count": 35,
     "metadata": {},
     "output_type": "execute_result"
    }
   ],
   "source": [
    "# Training our model\n",
    "import time\n",
    "\n",
    "start_time  = time.time()\n",
    "\n",
    "epochs = 10\n",
    "\n",
    "# Trackers\n",
    "train_correct = [] # What we get correct during training phase\n",
    "train_losses = [] # What we get wrong during the training phase\n",
    "test_correct = [] # what we get correct during the testing phase\n",
    "test_losses = [] # What we get wrong during the testing phase\n",
    "\n",
    "for i in range(epochs):\n",
    "    \n",
    "    train_corr = 0\n",
    "    test_corr = 0\n",
    "    \n",
    "    for j, (x_train,y_train) in enumerate(train_set_x_orig , train_set_y_orig):\n",
    "        \n",
    "        j+=1\n",
    "        \n",
    "        y_prediction = model(x_train.view(12288,-1))\n",
    "        loss = criterion(y_prediction,y_train)\n",
    "        \n",
    "        predicted = y_prediction.data\n",
    "        batch_correct = \n",
    "        \n",
    "        optimizer.zero_grad()\n",
    "        loss.backward()\n",
    "        optimizer.step()\n",
    "\n",
    "# Calculates the time elapsed\n",
    "total_time = time.time() - start_time "
   ]
  },
  {
   "cell_type": "code",
   "execution_count": null,
   "metadata": {},
   "outputs": [],
   "source": []
  }
 ],
 "metadata": {
  "kernelspec": {
   "display_name": "Python 3",
   "language": "python",
   "name": "python3"
  },
  "language_info": {
   "codemirror_mode": {
    "name": "ipython",
    "version": 3
   },
   "file_extension": ".py",
   "mimetype": "text/x-python",
   "name": "python",
   "nbconvert_exporter": "python",
   "pygments_lexer": "ipython3",
   "version": "3.6.10"
  }
 },
 "nbformat": 4,
 "nbformat_minor": 4
}
